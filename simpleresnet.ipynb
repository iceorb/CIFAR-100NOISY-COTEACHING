{
  "cells": [
    {
      "cell_type": "code",
      "execution_count": 9,
      "metadata": {},
      "outputs": [],
      "source": [
        "import csv\n",
        "import os\n",
        "import torch\n",
        "import torchvision\n",
        "import tarfile\n",
        "import torch.nn as nn\n",
        "import numpy as np\n",
        "import torch.nn.functional as F\n",
        "from torchvision.datasets.utils import download_url\n",
        "from torchvision.datasets import ImageFolder\n",
        "from torch.utils.data import DataLoader\n",
        "import torchvision.transforms as tt\n",
        "from torch.utils.data import random_split\n",
        "from torchvision.utils import make_grid\n",
        "import matplotlib\n",
        "import matplotlib.pyplot as plt\n",
        "from torchvision.transforms import ToTensor\n",
        "%matplotlib inline\n",
        "\n",
        "matplotlib.rcParams['figure.facecolor'] = '#ffffff'"
      ]
    },
    {
      "attachments": {},
      "cell_type": "markdown",
      "metadata": {},
      "source": [
        "Data Loading"
      ]
    },
    {
      "cell_type": "code",
      "execution_count": 10,
      "metadata": {},
      "outputs": [],
      "source": [
        "import datasets\n",
        "import torchvision.transforms as transforms\n",
        "\n",
        "tensor_transform = transforms.Compose([transforms.ToTensor()])\n",
        "dataset = datasets.C100Dataset('dataset/data/cifar100_nl.csv', 'dataset/data/cifar100_nl_test.csv')\n",
        "[trainData, trainLabels, testData, testLabels] = dataset.getDataset()\n",
        "\n",
        "\n"
      ]
    },
    {
      "cell_type": "code",
      "execution_count": 11,
      "metadata": {},
      "outputs": [
        {
          "name": "stdout",
          "output_type": "stream",
          "text": [
            "torch.FloatTensor\n",
            "torch.LongTensor\n"
          ]
        }
      ],
      "source": [
        "import datasets\n",
        "from torchvision.transforms import ToTensor as toTensor\n",
        "from torchvision import transforms\n",
        "from torch.utils.data import DataLoader\n",
        "from torch.utils.data import random_split\n",
        "import matplotlib.pyplot as plt\n",
        "\n",
        "tf = transforms.Compose([\n",
        "    transforms.Resize((32,32)),\n",
        "    transforms.RandomHorizontalFlip(),\n",
        "    transforms.RandomRotation(10),\n",
        "    transforms.ToTensor(),\n",
        "    transforms.Normalize(mean=[0.5071, 0.4867, 0.4408], std=[0.2675, 0.2565, 0.2761])\n",
        "    # Using previous information, skipping manual calculation\n",
        "])\n",
        "\n",
        "trainDataset = datasets.C100Dataset('dataset/data/cifar100_nl.csv', \n",
        "                                    root_dir=\"dataset\",\n",
        "                                    train=True,\n",
        "                                    transform= tf,\n",
        "                                    target_transform=torch.tensor)\n",
        "\n",
        "testDataset = datasets.C100Dataset('dataset/data/cifar100_nl_test.csv',\n",
        "                                    root_dir=\"dataset\",\n",
        "                                    test=True,\n",
        "                                    transform = tf,\n",
        "                                    target_transform=torch.tensor)\n",
        "print(trainDataset[0][0].type() )\n",
        "trainDataset, valDataset = random_split(trainDataset, [.8, .2])\n",
        "\n",
        "print( trainDataset[0][1].type() )"
      ]
    },
    {
      "attachments": {},
      "cell_type": "markdown",
      "metadata": {},
      "source": [
        "Move to CUDA "
      ]
    },
    {
      "cell_type": "code",
      "execution_count": 12,
      "metadata": {},
      "outputs": [],
      "source": [
        "def get_default_device():\n",
        "    \"\"\"Pick GPU if available, else CPU\"\"\"\n",
        "    if torch.cuda.is_available():\n",
        "        return torch.device('cuda')\n",
        "    else:\n",
        "        return torch.device('cpu')\n",
        "    \n",
        "device = get_default_device()\n",
        "\n",
        "def to_device(entity, device):\n",
        "    \"\"\"Move tensor(s) to chosen device\"\"\"\n",
        "    if isinstance(entity, (list,tuple)):\n",
        "        return [to_device(x, device) for x in entity]\n",
        "    return entity.to(device, non_blocking=True)\n",
        "\n",
        "class DeviceDataLoader():\n",
        "    \"\"\"Wrap a dataloader to move data to a device\"\"\"\n",
        "    def __init__(self, loader, device):\n",
        "        self.loader = loader\n",
        "        self.device = device\n",
        "        \n",
        "    def __iter__(self):\n",
        "        \"\"\"Yield a batch of data after moving it to device\"\"\"\n",
        "        for entity in self.loader:\n",
        "            yield to_device(entity, self.device)\n",
        "\n",
        "    def __len__(self):\n",
        "        \"\"\"Number of batches\"\"\"\n",
        "        return len(self.loader)"
      ]
    },
    {
      "attachments": {},
      "cell_type": "markdown",
      "metadata": {},
      "source": [
        "Model Architecture"
      ]
    },
    {
      "cell_type": "code",
      "execution_count": 13,
      "metadata": {},
      "outputs": [],
      "source": [
        "## ResNet\n",
        "\n",
        "def conv_block(in_channels, out_channels, pool=False):\n",
        "    layers = [nn.Conv2d(in_channels, out_channels, kernel_size=3, padding=1),\n",
        "              nn.BatchNorm2d(out_channels),\n",
        "              nn.ReLU(inplace=True)]\n",
        "\n",
        "    if pool:\n",
        "        layers.append(nn.MaxPool2d(2))\n",
        "    return nn.Sequential(*layers)\n",
        "\n",
        "class ResNet(nn.Module):\n",
        "    def __init__(self, in_channels, num_classes):\n",
        "        super().__init__()\n",
        "\n",
        "        self.conv1 = conv_block(in_channels, 128)  # Increase the output channels\n",
        "        self.conv2 = conv_block(128, 256, pool=True)  # Increase the output channels\n",
        "        self.res1 = nn.Sequential(conv_block(256, 256), conv_block(256, 256))\n",
        "\n",
        "        self.conv3 = conv_block(256, 512, pool=True)  # Increase the output channels\n",
        "        self.conv4 = conv_block(512, 1024, pool=True)  # Increase the output channels\n",
        "        self.res2 = nn.Sequential(conv_block(1024, 1024), conv_block(1024, 1024))\n",
        "\n",
        "        self.classifier = nn.Sequential(nn.MaxPool2d(4),\n",
        "                                        nn.Flatten(),\n",
        "                                        nn.Dropout(0.2),\n",
        "                                        nn.Linear(1024, num_classes))\n",
        "        \n",
        "    def forward(self, x):\n",
        "        out = self.conv1(x)\n",
        "        out = self.conv2(out)\n",
        "        out = self.res1(out) + out\n",
        "        out = self.conv3(out)\n",
        "        out = self.conv4(out)\n",
        "        out = self.res2(out) + out\n",
        "\n",
        "        return self.classifier(out)\n",
        "\n"
      ]
    },
    {
      "cell_type": "code",
      "execution_count": 17,
      "metadata": {},
      "outputs": [],
      "source": [
        "# Select training model\n",
        "\n",
        "from torchvision.models import resnet50, ResNet50_Weights\n",
        "from model import CNN\n",
        "\n",
        "model = ResNet(3, 100)"
      ]
    },
    {
      "attachments": {},
      "cell_type": "markdown",
      "metadata": {},
      "source": [
        "Model training"
      ]
    },
    {
      "cell_type": "code",
      "execution_count": 26,
      "metadata": {},
      "outputs": [],
      "source": [
        "import sklearn.metrics as metrics\n",
        "\n",
        "def accuracy(outputs, labels):\n",
        "    _, preds = torch.max(outputs, dim=1)\n",
        "    return torch.tensor(torch.sum(preds == labels).item() / len(preds))"
      ]
    },
    {
      "cell_type": "code",
      "execution_count": 24,
      "metadata": {},
      "outputs": [],
      "source": [
        "def train(model, train_dl, val_dl, test_dl, epochs, max_lr, loss_func, optim, warmup_epochs):\n",
        "    # Initalize the optimizer \n",
        "    optimizer = optim(model.parameters(), max_lr)\n",
        "    scheduler = torch.optim.lr_scheduler.OneCycleLR(optimizer, max_lr, epochs = epochs * len(train_dl), steps_per_epoch = len(train_dl))\n",
        "\n",
        "    results = []\n",
        "    lrs = []\n",
        "    for epoch in range(epochs):\n",
        "        model.train()\n",
        "        train_losses = []\n",
        "        lrs = []\n",
        "\n",
        "\n",
        "        # Apply warm-up learning rate for the specified number of epochs\n",
        "        if epoch < warmup_epochs:\n",
        "            warmup_lr = max_lr * (epoch + 1) / warmup_epochs\n",
        "            for param_group in optimizer.param_groups:\n",
        "                param_group['lr'] = warmup_lr\n",
        "\n",
        "        train_losses = []\n",
        "        train_accs = []\n",
        "        for images, labels in train_dl:\n",
        "            logits = model(images)\n",
        "            loss = loss_func(logits, labels)\n",
        "\n",
        "            train_losses.append(loss)\n",
        "            train_accs.append(accuracy(logits, labels))\n",
        "\n",
        "            loss.backward()\n",
        "            train_losses.append(loss)\n",
        "            optimizer.step()\n",
        "            optimizer.zero_grad()\n",
        "            scheduler.step()\n",
        "            lrs.append(optimizer.param_groups[0]['lr'])\n",
        "\n",
        "        epoch_train_loss = torch.stack(train_losses).mean()\n",
        "        epoch_train_acc = torch.stack(train_accs).mean()\n",
        "\n",
        "        model.eval()\n",
        "        batch_losses = []\n",
        "        batch_accs = []\n",
        "        for images, labels in val_dl:\n",
        "            with torch.no_grad():\n",
        "                logits = model(images)\n",
        "            batch_losses.append(loss_func(logits, labels))\n",
        "            batch_accs.append(accuracy(logits, labels))\n",
        "        epoch_val_loss = torch.stack(batch_losses).mean().item()\n",
        "        epoch_val_acc = torch.stack(batch_accs).mean()\n",
        "\n",
        "\n",
        "        test_losses = []\n",
        "        test_accs = []\n",
        "        for images, labels in test_dl:\n",
        "            with torch.no_grad():\n",
        "                logits = model(images)\n",
        "            test_losses.append(loss_func(logits, labels))\n",
        "            test_accs.append(accuracy(logits, labels))\n",
        "        epoch_test_loss = torch.stack(test_losses).mean().item()\n",
        "        epoch_test_acc = torch.stack(test_accs).mean()\n",
        "\n",
        "        results.append({\n",
        "            'avg_train_loss': epoch_train_loss,\n",
        "            'avg_train_accuracy': epoch_train_acc,\n",
        "            'avg_validation_loss': epoch_val_loss,\n",
        "            'avg_validation_accuracy': epoch_val_acc,\n",
        "            'avg_testing_loss': epoch_test_loss,\n",
        "            'avg_testing_accuracy': epoch_test_acc\n",
        "        })\n",
        "\n",
        "    return results, lrs"
      ]
    },
    {
      "cell_type": "code",
      "execution_count": 22,
      "metadata": {},
      "outputs": [],
      "source": [
        "# Parameters\n",
        "\n",
        "model = to_device(model, device)\n",
        "epochs = 20\n",
        "max_lr = 1e-2\n",
        "loss_func = F.cross_entropy\n",
        "optim = torch.optim.Adam\n",
        "batch_size = 128\n",
        "warmup_epochs = 2 # Number of warmup epochs for the learning rate scheduler\n",
        "\n",
        "# Load loaders\n",
        "trainLoader = DataLoader(trainDataset, batch_size=batch_size, shuffle=True)\n",
        "valLoader = DataLoader(valDataset, batch_size=batch_size, shuffle=True)\n",
        "testLoader = DataLoader(testDataset, batch_size=batch_size, shuffle=True)\n",
        "\n",
        "trainLoader = DeviceDataLoader(trainLoader, device)\n",
        "valLoader = DeviceDataLoader(valLoader, device)\n",
        "testLoader = DeviceDataLoader(testLoader, device)"
      ]
    },
    {
      "cell_type": "code",
      "execution_count": 27,
      "metadata": {},
      "outputs": [
        {
          "name": "stdout",
          "output_type": "stream",
          "text": [
            "[20, 0.01, <function cross_entropy at 0x0000019DD7AEEC20>, <class 'torch.optim.adam.Adam'>, 2]\n",
            "Epoch 1: 0.0842\n",
            "Epoch 2: 0.1476\n",
            "Epoch 3: 0.1896\n",
            "Epoch 4: 0.2375\n",
            "Epoch 5: 0.2744\n",
            "Epoch 6: 0.2944\n",
            "Epoch 7: 0.3244\n",
            "Epoch 8: 0.3114\n",
            "Epoch 9: 0.3515\n",
            "Epoch 10: 0.3690\n",
            "Epoch 11: 0.3830\n",
            "Epoch 12: 0.4116\n",
            "Epoch 13: 0.4068\n",
            "Epoch 14: 0.4153\n",
            "Epoch 15: 0.4223\n",
            "Epoch 16: 0.4300\n",
            "Epoch 17: 0.4372\n",
            "Epoch 18: 0.4355\n",
            "Epoch 19: 0.4333\n",
            "Epoch 20: 0.4330\n"
          ]
        }
      ],
      "source": [
        "results, lrs = train(model, trainLoader, valLoader, testLoader, epochs, max_lr, loss_func, optim, warmup_epochs)\n",
        "\n",
        "\n",
        "print(parameters)\n",
        "for i, result in enumerate(results):\n",
        "    print(\"Epoch {}: {:.4f}\".format(i + 1, result[\"avg_validation_accuracy\"]))"
      ]
    },
    {
      "attachments": {},
      "cell_type": "markdown",
      "metadata": {},
      "source": [
        "Evaluation"
      ]
    },
    {
      "cell_type": "code",
      "execution_count": 28,
      "metadata": {},
      "outputs": [
        {
          "data": {
            "image/png": "[encoded data removed]",
            "text/plain": [
              "<Figure size 640x480 with 1 Axes>"
            ]
          },
          "metadata": {},
          "output_type": "display_data"
        }
      ],
      "source": [
        "# Extract the accuracy values from the results\n",
        "validation_accuracies = [result['avg_validation_accuracy'] for result in results]\n",
        "testing_accuracies = [result['avg_testing_accuracy'] for result in results]\n",
        "\n",
        "# Plot accuracy over epochs\n",
        "plt.plot(range(1, len(validation_accuracies) + 1), validation_accuracies, label='Validation Accuracy')\n",
        "plt.plot(range(1, len(testing_accuracies) + 1), testing_accuracies, label='Testing Accuracy')\n",
        "plt.xlabel('Epoch')\n",
        "plt.ylabel('Accuracy')\n",
        "plt.title('Simple ResNet results')\n",
        "plt.legend()\n",
        "plt.show()"
      ]
    }
  ],
  "metadata": {
    "accelerator": "GPU",
    "colab": {
      "authorship_tag": "ABX9TyONnvKUvE8P3fcGNKeCKeTR",
      "gpuType": "T4",
      "include_colab_link": true,
      "provenance": [],
      "toc_visible": true
    },
    "kernelspec": {
      "display_name": "Python 3",
      "name": "python3"
    },
    "language_info": {
      "codemirror_mode": {
        "name": "ipython",
        "version": 3
      },
      "file_extension": ".py",
      "mimetype": "text/x-python",
      "name": "python",
      "nbconvert_exporter": "python",
      "pygments_lexer": "ipython3",
      "version": "3.10.10"
    }
  },
  "nbformat": 4,
  "nbformat_minor": 0
}
