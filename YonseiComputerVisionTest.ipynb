{
  "cells": [
    {
      "cell_type": "code",
      "execution_count": 192,
      "metadata": {},
      "outputs": [
        {
          "name": "stdout",
          "output_type": "stream",
          "text": [
            "Requirement already satisfied: numpy in c:\\users\\aaron\\miniconda3\\lib\\site-packages (from -r requirements.txt (line 1)) (1.24.3)\n",
            "Requirement already satisfied: matplotlib in c:\\users\\aaron\\miniconda3\\lib\\site-packages (from -r requirements.txt (line 2)) (3.7.1)\n",
            "Requirement already satisfied: tqdm in c:\\users\\aaron\\miniconda3\\lib\\site-packages (from -r requirements.txt (line 3)) (4.65.0)\n",
            "Requirement already satisfied: torch in c:\\users\\aaron\\miniconda3\\lib\\site-packages (from -r requirements.txt (line 4)) (2.0.1)\n",
            "Requirement already satisfied: torchvision in c:\\users\\aaron\\miniconda3\\lib\\site-packages (from -r requirements.txt (line 5)) (0.15.2)\n",
            "Requirement already satisfied: scikit-learn in c:\\users\\aaron\\miniconda3\\lib\\site-packages (from -r requirements.txt (line 6)) (1.2.2)\n",
            "Requirement already satisfied: pyparsing>=2.3.1 in c:\\users\\aaron\\miniconda3\\lib\\site-packages (from matplotlib->-r requirements.txt (line 2)) (3.0.9)\n",
            "Requirement already satisfied: python-dateutil>=2.7 in c:\\users\\aaron\\miniconda3\\lib\\site-packages (from matplotlib->-r requirements.txt (line 2)) (2.8.2)\n",
            "Requirement already satisfied: pillow>=6.2.0 in c:\\users\\aaron\\miniconda3\\lib\\site-packages (from matplotlib->-r requirements.txt (line 2)) (9.4.0)\n",
            "Requirement already satisfied: fonttools>=4.22.0 in c:\\users\\aaron\\miniconda3\\lib\\site-packages (from matplotlib->-r requirements.txt (line 2)) (4.39.4)\n",
            "Requirement already satisfied: packaging>=20.0 in c:\\users\\aaron\\miniconda3\\lib\\site-packages (from matplotlib->-r requirements.txt (line 2)) (23.0)\n",
            "Requirement already satisfied: kiwisolver>=1.0.1 in c:\\users\\aaron\\miniconda3\\lib\\site-packages (from matplotlib->-r requirements.txt (line 2)) (1.4.4)\n",
            "Requirement already satisfied: contourpy>=1.0.1 in c:\\users\\aaron\\miniconda3\\lib\\site-packages (from matplotlib->-r requirements.txt (line 2)) (1.0.7)\n",
            "Requirement already satisfied: cycler>=0.10 in c:\\users\\aaron\\miniconda3\\lib\\site-packages (from matplotlib->-r requirements.txt (line 2)) (0.11.0)\n",
            "Requirement already satisfied: colorama in c:\\users\\aaron\\miniconda3\\lib\\site-packages (from tqdm->-r requirements.txt (line 3)) (0.4.6)\n",
            "Requirement already satisfied: filelock in c:\\users\\aaron\\miniconda3\\lib\\site-packages (from torch->-r requirements.txt (line 4)) (3.9.0)\n",
            "Requirement already satisfied: typing-extensions in c:\\users\\aaron\\miniconda3\\lib\\site-packages (from torch->-r requirements.txt (line 4)) (4.5.0)\n",
            "Requirement already satisfied: sympy in c:\\users\\aaron\\miniconda3\\lib\\site-packages (from torch->-r requirements.txt (line 4)) (1.11.1)\n",
            "Requirement already satisfied: networkx in c:\\users\\aaron\\miniconda3\\lib\\site-packages (from torch->-r requirements.txt (line 4)) (2.8.4)\n",
            "Requirement already satisfied: jinja2 in c:\\users\\aaron\\miniconda3\\lib\\site-packages (from torch->-r requirements.txt (line 4)) (3.1.2)\n",
            "Requirement already satisfied: requests in c:\\users\\aaron\\miniconda3\\lib\\site-packages (from torchvision->-r requirements.txt (line 5)) (2.28.1)\n",
            "Requirement already satisfied: scipy>=1.3.2 in c:\\users\\aaron\\miniconda3\\lib\\site-packages (from scikit-learn->-r requirements.txt (line 6)) (1.10.1)\n",
            "Requirement already satisfied: joblib>=1.1.1 in c:\\users\\aaron\\miniconda3\\lib\\site-packages (from scikit-learn->-r requirements.txt (line 6)) (1.2.0)\n",
            "Requirement already satisfied: threadpoolctl>=2.0.0 in c:\\users\\aaron\\miniconda3\\lib\\site-packages (from scikit-learn->-r requirements.txt (line 6)) (3.1.0)\n",
            "Requirement already satisfied: six>=1.5 in c:\\users\\aaron\\miniconda3\\lib\\site-packages (from python-dateutil>=2.7->matplotlib->-r requirements.txt (line 2)) (1.16.0)\n",
            "Requirement already satisfied: MarkupSafe>=2.0 in c:\\users\\aaron\\miniconda3\\lib\\site-packages (from jinja2->torch->-r requirements.txt (line 4)) (2.1.1)\n",
            "Requirement already satisfied: certifi>=2017.4.17 in c:\\users\\aaron\\miniconda3\\lib\\site-packages (from requests->torchvision->-r requirements.txt (line 5)) (2023.5.7)\n",
            "Requirement already satisfied: urllib3<1.27,>=1.21.1 in c:\\users\\aaron\\miniconda3\\lib\\site-packages (from requests->torchvision->-r requirements.txt (line 5)) (1.26.15)\n",
            "Requirement already satisfied: idna<4,>=2.5 in c:\\users\\aaron\\miniconda3\\lib\\site-packages (from requests->torchvision->-r requirements.txt (line 5)) (3.4)\n",
            "Requirement already satisfied: charset-normalizer<3,>=2 in c:\\users\\aaron\\miniconda3\\lib\\site-packages (from requests->torchvision->-r requirements.txt (line 5)) (2.0.4)\n",
            "Requirement already satisfied: mpmath>=0.19 in c:\\users\\aaron\\miniconda3\\lib\\site-packages (from sympy->torch->-r requirements.txt (line 4)) (1.2.1)\n"
          ]
        }
      ],
      "source": [
        "!pip install -r requirements.txt"
      ]
    },
    {
      "cell_type": "code",
      "execution_count": 193,
      "metadata": {},
      "outputs": [],
      "source": [
        "import csv\n",
        "import os\n",
        "import torch\n",
        "import torchvision\n",
        "import tarfile\n",
        "import torch.nn as nn\n",
        "import numpy as np\n",
        "import torch.nn.functional as F\n",
        "from torchvision.datasets.utils import download_url\n",
        "from torchvision.datasets import ImageFolder\n",
        "from torch.utils.data import DataLoader\n",
        "import torchvision.transforms as tt\n",
        "from torch.utils.data import random_split\n",
        "from torchvision.utils import make_grid\n",
        "import matplotlib\n",
        "import matplotlib.pyplot as plt\n",
        "from torchvision.transforms import ToTensor\n",
        "%matplotlib inline\n",
        "\n",
        "matplotlib.rcParams['figure.facecolor'] = '#ffffff'"
      ]
    },
    {
      "cell_type": "code",
      "execution_count": 194,
      "metadata": {},
      "outputs": [
        {
          "name": "stdout",
          "output_type": "stream",
          "text": [
            "49999\n",
            "49999\n",
            "9999\n",
            "9999\n"
          ]
        }
      ],
      "source": [
        "import datasets\n",
        "import torchvision.transforms as transforms\n",
        "\n",
        "tensor_transform = transforms.Compose([transforms.ToTensor()])\n",
        "dataset = datasets.C100Dataset('dataset/data/cifar100_nl.csv', 'dataset/data/cifar100_nl_test.csv')\n",
        "[trainData, trainLabels, valData, valLabels] = dataset.getDataset()\n",
        "\n",
        "\n"
      ]
    },
    {
      "cell_type": "code",
      "execution_count": 195,
      "metadata": {},
      "outputs": [],
      "source": [
        "import torch\n",
        "from torch.utils.data import TensorDataset, DataLoader\n",
        "\n",
        "# Assuming trainData, trainLabels, valData, and valLabels are numpy arrays\n",
        "trainData = trainData / 255.0\n",
        "valData = valData / 255.0\n",
        "\n",
        "# Convert numpy arrays to torch tensors\n",
        "trainData = torch.from_numpy(trainData)\n",
        "trainLabels = torch.from_numpy(trainLabels)\n",
        "valData = torch.from_numpy(valData)\n",
        "valLabels = torch.from_numpy(valLabels)\n",
        "\n",
        "# Convert to float\n",
        "trainData = trainData.to(torch.float32)\n",
        "trainLabels = trainLabels.to(torch.float32)\n",
        "valData = valData.to(torch.float32)\n",
        "valLabels = valLabels.to(torch.float32)\n",
        "\n",
        "# Label softening\n",
        "# label_smoothing = .3\n",
        "# num_classes = 100\n",
        "\n",
        "# trainLabels = trainLabels.long()\n",
        "# valLabels = valLabels.long()\n",
        "\n",
        "# trainLabels = trainLabels * (1 - label_smoothing) + label_smoothing / num_classes\n",
        "# valLabels = valLabels * (1 - label_smoothing) + label_smoothing / num_classes\n",
        "\n",
        "# Create TensorDatasets\n",
        "trainDataset = TensorDataset(trainData, trainLabels)\n",
        "valDataset = TensorDataset(valData, valLabels)\n",
        "\n",
        "# Create DataLoaders\n",
        "trainLoader = DataLoader(trainDataset, batch_size=64, shuffle=True)\n",
        "valLoader = DataLoader(valDataset, batch_size=64, shuffle=False)"
      ]
    },
    {
      "cell_type": "code",
      "execution_count": 196,
      "metadata": {},
      "outputs": [
        {
          "data": {
            "text/plain": [
              "torch.Size([32, 32, 3])"
            ]
          },
          "execution_count": 196,
          "metadata": {},
          "output_type": "execute_result"
        }
      ],
      "source": [
        "\n",
        "\n",
        "train_iter = iter(trainLoader)\n",
        "images, labels = next(train_iter)\n",
        "\n",
        "images[0].shape\n"
      ]
    },
    {
      "cell_type": "code",
      "execution_count": 197,
      "metadata": {},
      "outputs": [],
      "source": [
        "def get_default_device():\n",
        "    \"\"\"Pick GPU if available, else CPU\"\"\"\n",
        "    if torch.cuda.is_available():\n",
        "        return torch.device('cuda')\n",
        "    else:\n",
        "        return torch.device('cpu')\n",
        "    \n",
        "device = get_default_device()\n",
        "\n",
        "def to_device(entity, device):\n",
        "    \"\"\"Move tensor(s) to chosen device\"\"\"\n",
        "    if isinstance(entity, (list,tuple)):\n",
        "        return [to_device(x, device) for x in entity]\n",
        "    return entity.to(device, non_blocking=True)\n",
        "\n",
        "class DeviceDataLoader():\n",
        "    \"\"\"Wrap a dataloader to move data to a device\"\"\"\n",
        "    def __init__(self, loader, device):\n",
        "        self.loader = loader\n",
        "        self.device = device\n",
        "        \n",
        "    def __iter__(self):\n",
        "        \"\"\"Yield a batch of data after moving it to device\"\"\"\n",
        "        for entity in self.loader:\n",
        "            yield to_device(entity, self.device)\n",
        "\n",
        "    def __len__(self):\n",
        "        \"\"\"Number of batches\"\"\"\n",
        "        return len(self.loader)\n",
        "    \n",
        "trainLoader = DeviceDataLoader(trainLoader, device)\n",
        "valLoader = DeviceDataLoader(valLoader, device)"
      ]
    },
    {
      "attachments": {},
      "cell_type": "markdown",
      "metadata": {},
      "source": [
        "Model Architecture"
      ]
    },
    {
      "cell_type": "code",
      "execution_count": 257,
      "metadata": {},
      "outputs": [],
      "source": [
        "def divide_and_mix(inputs, targets, alpha):\n",
        "    batch_size = inputs.size(0)\n",
        "    index = torch.randperm(batch_size)\n",
        "\n",
        "    lam = torch.empty(batch_size).uniform_(0, alpha).unsqueeze(1).to(inputs.device)\n",
        "    mixed_inputs = lam * inputs + (1 - lam) * inputs[index, :]\n",
        "    expanded_targets = targets.unsqueeze(1).expand(-1, inputs.size(1))\n",
        "    mixed_targets = lam * expanded_targets + (1 - lam) * expanded_targets[index, :]\n",
        "    return mixed_inputs, mixed_targets\n"
      ]
    },
    {
      "cell_type": "code",
      "execution_count": 258,
      "metadata": {},
      "outputs": [],
      "source": [
        "## ResNet\n",
        "\n",
        "def conv_block(in_channels, out_channels, pool = False):\n",
        "    layers = [nn.Conv2d(in_channels, out_channels, kernel_size = 3, padding = 1),\n",
        "                nn.BatchNorm2d(out_channels),\n",
        "                nn.ReLU(inplace = True)]\n",
        "\n",
        "    if pool:\n",
        "        layers.append(nn.MaxPool2d(2))\n",
        "    return nn.Sequential(*layers)\n",
        "\n",
        "class ResNet(nn.Module):\n",
        "    def __init__(self, in_channels, num_classes):\n",
        "        super().__init__()\n",
        "\n",
        "        self.conv1 = conv_block(in_channels, 64)\n",
        "        self.conv2 = conv_block(64, 128, pool = True)\n",
        "        self.res1 = nn.Sequential(conv_block(128, 128), conv_block(128, 128))\n",
        "\n",
        "        self.conv3 = conv_block(128, 256, pool = True)\n",
        "        self.conv4 = conv_block(256, 512, pool = True)\n",
        "        self.res2 = nn.Sequential(conv_block(512, 512), conv_block(512, 512))\n",
        "\n",
        "        self.classifier = nn.Sequential(nn.MaxPool2d(4),\n",
        "                                        nn.Flatten(),\n",
        "                                        nn.Dropout(0,2),\n",
        "                                        nn.Linear(512, num_classes))\n",
        "        \n",
        "    def forward(self, x, targets, alpha):\n",
        "        out = self.conv1(x)\n",
        "        out = self.conv2(out)\n",
        "        out = self.res1(out) + out\n",
        "        out = self.conv3(out)\n",
        "        out = self.conv4(out)\n",
        "        out = self.res2(out) + out\n",
        "\n",
        "        mixed_inputs, mixed_targets = divide_and_mix(out, targets, alpha)\n",
        "\n",
        "        out = self.classifier(out)\n",
        "        return self.classifier(out)\n"
      ]
    },
    {
      "cell_type": "code",
      "execution_count": 259,
      "metadata": {},
      "outputs": [],
      "source": [
        "model = ResNet(3, 100)"
      ]
    },
    {
      "attachments": {},
      "cell_type": "markdown",
      "metadata": {},
      "source": [
        "Model training"
      ]
    },
    {
      "cell_type": "code",
      "execution_count": 260,
      "metadata": {},
      "outputs": [],
      "source": [
        "def train(model, train_dl, val_dl, epochs, max_lr, loss_func, optim):\n",
        "    # Initalize the optimizer \n",
        "    optimizer = optim(model.parameters(), max_lr)\n",
        "    scheduler = torch.optim.lr_scheduler.OneCycleLR(optimizer, max_lr, epochs = epochs * len(train_dl), steps_per_epoch = len(train_dl))\n",
        "\n",
        "    results = []\n",
        "    lrs = []\n",
        "    for epoch in range(epochs):\n",
        "        model.train()\n",
        "        train_losses = []\n",
        "        lrs = []\n",
        "\n",
        "        for images, labels in train_dl:\n",
        "            images = images.permute(0, 3, 1, 2)\n",
        "            logits = model(images)\n",
        "            loss = loss_func(logits, labels)\n",
        "            loss.backward()\n",
        "            optimizer.step()\n",
        "            optimizer.zero_grad()\n",
        "            scheduler.step()\n",
        "            lrs.append(optimizer.param_groups[0]['lr'])\n",
        "        epoch_train_loss = torch.stack(train_losses).mean()\n",
        "\n",
        "        model.eval()\n",
        "        batch_losses = []\n",
        "        batch_accs = []\n",
        "        for images, labels in val_dl:\n",
        "            with torch.no_grad():\n",
        "                images = images.permute(0, 3, 1, 2)\n",
        "                logits = model(images)\n",
        "            batch_losses.append(loss_func(logits, labels))\n",
        "            batch_accs.append(accuracy(logits, labels))\n",
        "        epoch_val_loss = torch.stack(batch_losses).mean().item()\n",
        "        epoch_val_acc = torch.stack(batch_accs).mean()\n",
        "        results.append({'avg_validation_loss': epoch_val_loss, 'avg_train_loss': epoch_train_loss, 'avg_validation_accuracy': epoch_val_acc})\n",
        "    return results"
      ]
    },
    {
      "cell_type": "code",
      "execution_count": 261,
      "metadata": {},
      "outputs": [],
      "source": [
        "model = to_device(model, device)\n",
        "epochs = 10\n",
        "max_lr = 1e-2\n",
        "loss_func = nn.functional.cross_entropy\n",
        "optim = torch.optim.Adam"
      ]
    },
    {
      "cell_type": "code",
      "execution_count": null,
      "metadata": {},
      "outputs": [],
      "source": []
    },
    {
      "cell_type": "code",
      "execution_count": 262,
      "metadata": {},
      "outputs": [
        {
          "ename": "RuntimeError",
          "evalue": "The size of tensor a (64) must match the size of tensor b (4) at non-singleton dimension 2",
          "output_type": "error",
          "traceback": [
            "\u001b[1;31m---------------------------------------------------------------------------\u001b[0m",
            "\u001b[1;31mRuntimeError\u001b[0m                              Traceback (most recent call last)",
            "Cell \u001b[1;32mIn[262], line 1\u001b[0m\n\u001b[1;32m----> 1\u001b[0m results \u001b[39m=\u001b[39m train(model, trainLoader, valLoader, epochs, max_lr, loss_func, optim)\n\u001b[0;32m      2\u001b[0m \u001b[39mfor\u001b[39;00m result \u001b[39min\u001b[39;00m results:\n\u001b[0;32m      3\u001b[0m     \u001b[39mprint\u001b[39m(result[\u001b[39m\"\u001b[39m\u001b[39mavg_validation_accuracy\u001b[39m\u001b[39m\"\u001b[39m])\n",
            "Cell \u001b[1;32mIn[260], line 17\u001b[0m, in \u001b[0;36mtrain\u001b[1;34m(model, train_dl, val_dl, epochs, max_lr, loss_func, optim)\u001b[0m\n\u001b[0;32m     15\u001b[0m \u001b[39mfor\u001b[39;00m images, labels \u001b[39min\u001b[39;00m train_dl:\n\u001b[0;32m     16\u001b[0m     images \u001b[39m=\u001b[39m images\u001b[39m.\u001b[39mpermute(\u001b[39m0\u001b[39m, \u001b[39m3\u001b[39m, \u001b[39m1\u001b[39m, \u001b[39m2\u001b[39m)\n\u001b[1;32m---> 17\u001b[0m     logits, mixed_targets \u001b[39m=\u001b[39m model(images, labels, alpha)\n\u001b[0;32m     18\u001b[0m     mixed_targets \u001b[39m=\u001b[39m mixed_targets\u001b[39m.\u001b[39mlong()\n\u001b[0;32m     19\u001b[0m     loss \u001b[39m=\u001b[39m loss_func(logits, mixed_targets)\n",
            "File \u001b[1;32mc:\\Users\\aaron\\miniconda3\\lib\\site-packages\\torch\\nn\\modules\\module.py:1501\u001b[0m, in \u001b[0;36mModule._call_impl\u001b[1;34m(self, *args, **kwargs)\u001b[0m\n\u001b[0;32m   1496\u001b[0m \u001b[39m# If we don't have any hooks, we want to skip the rest of the logic in\u001b[39;00m\n\u001b[0;32m   1497\u001b[0m \u001b[39m# this function, and just call forward.\u001b[39;00m\n\u001b[0;32m   1498\u001b[0m \u001b[39mif\u001b[39;00m \u001b[39mnot\u001b[39;00m (\u001b[39mself\u001b[39m\u001b[39m.\u001b[39m_backward_hooks \u001b[39mor\u001b[39;00m \u001b[39mself\u001b[39m\u001b[39m.\u001b[39m_backward_pre_hooks \u001b[39mor\u001b[39;00m \u001b[39mself\u001b[39m\u001b[39m.\u001b[39m_forward_hooks \u001b[39mor\u001b[39;00m \u001b[39mself\u001b[39m\u001b[39m.\u001b[39m_forward_pre_hooks\n\u001b[0;32m   1499\u001b[0m         \u001b[39mor\u001b[39;00m _global_backward_pre_hooks \u001b[39mor\u001b[39;00m _global_backward_hooks\n\u001b[0;32m   1500\u001b[0m         \u001b[39mor\u001b[39;00m _global_forward_hooks \u001b[39mor\u001b[39;00m _global_forward_pre_hooks):\n\u001b[1;32m-> 1501\u001b[0m     \u001b[39mreturn\u001b[39;00m forward_call(\u001b[39m*\u001b[39margs, \u001b[39m*\u001b[39m\u001b[39m*\u001b[39mkwargs)\n\u001b[0;32m   1502\u001b[0m \u001b[39m# Do not call functions when jit is used\u001b[39;00m\n\u001b[0;32m   1503\u001b[0m full_backward_hooks, non_full_backward_hooks \u001b[39m=\u001b[39m [], []\n",
            "Cell \u001b[1;32mIn[258], line 37\u001b[0m, in \u001b[0;36mResNet.forward\u001b[1;34m(self, x, targets, alpha)\u001b[0m\n\u001b[0;32m     34\u001b[0m out \u001b[39m=\u001b[39m \u001b[39mself\u001b[39m\u001b[39m.\u001b[39mconv4(out)\n\u001b[0;32m     35\u001b[0m out \u001b[39m=\u001b[39m \u001b[39mself\u001b[39m\u001b[39m.\u001b[39mres2(out) \u001b[39m+\u001b[39m out\n\u001b[1;32m---> 37\u001b[0m mixed_inputs, mixed_targets \u001b[39m=\u001b[39m divide_and_mix(out, targets, alpha)\n\u001b[0;32m     39\u001b[0m out \u001b[39m=\u001b[39m \u001b[39mself\u001b[39m\u001b[39m.\u001b[39mclassifier(out)\n\u001b[0;32m     40\u001b[0m \u001b[39mreturn\u001b[39;00m \u001b[39mself\u001b[39m\u001b[39m.\u001b[39mclassifier(out)\n",
            "Cell \u001b[1;32mIn[257], line 6\u001b[0m, in \u001b[0;36mdivide_and_mix\u001b[1;34m(inputs, targets, alpha)\u001b[0m\n\u001b[0;32m      3\u001b[0m index \u001b[39m=\u001b[39m torch\u001b[39m.\u001b[39mrandperm(batch_size)\n\u001b[0;32m      5\u001b[0m lam \u001b[39m=\u001b[39m torch\u001b[39m.\u001b[39mempty(batch_size)\u001b[39m.\u001b[39muniform_(\u001b[39m0\u001b[39m, alpha)\u001b[39m.\u001b[39munsqueeze(\u001b[39m1\u001b[39m)\u001b[39m.\u001b[39mto(inputs\u001b[39m.\u001b[39mdevice)\n\u001b[1;32m----> 6\u001b[0m mixed_inputs \u001b[39m=\u001b[39m lam \u001b[39m*\u001b[39;49m inputs \u001b[39m+\u001b[39m (\u001b[39m1\u001b[39m \u001b[39m-\u001b[39m lam) \u001b[39m*\u001b[39m inputs[index, :]\n\u001b[0;32m      7\u001b[0m expanded_targets \u001b[39m=\u001b[39m targets\u001b[39m.\u001b[39munsqueeze(\u001b[39m1\u001b[39m)\u001b[39m.\u001b[39mexpand(\u001b[39m-\u001b[39m\u001b[39m1\u001b[39m, inputs\u001b[39m.\u001b[39msize(\u001b[39m1\u001b[39m))\n\u001b[0;32m      8\u001b[0m mixed_targets \u001b[39m=\u001b[39m lam \u001b[39m*\u001b[39m expanded_targets \u001b[39m+\u001b[39m (\u001b[39m1\u001b[39m \u001b[39m-\u001b[39m lam) \u001b[39m*\u001b[39m expanded_targets[index, :]\n",
            "\u001b[1;31mRuntimeError\u001b[0m: The size of tensor a (64) must match the size of tensor b (4) at non-singleton dimension 2"
          ]
        }
      ],
      "source": [
        "results = train(model, trainLoader, valLoader, epochs, max_lr, loss_func, optim)\n",
        "for result in results:\n",
        "    print(result[\"avg_validation_accuracy\"])"
      ]
    },
    {
      "attachments": {},
      "cell_type": "markdown",
      "metadata": {},
      "source": [
        "Evaluation"
      ]
    },
    {
      "cell_type": "code",
      "execution_count": null,
      "metadata": {},
      "outputs": [],
      "source": [
        "correct = 0\n",
        "total = 0\n",
        "\n",
        "with torch.no_grad():\n",
        "    for data in valLoader:\n",
        "        images, labels = data\n",
        "        images = images.permute(0,3,1,2)\n",
        "        outputs = classifier_model(images)\n",
        "        _, predicted = torch.max(outputs.data, 1)\n",
        "        total += labels.size(0)\n",
        "        correct += (predicted == labels).sum().item()\n",
        "\n",
        "print('Accuracy on the 10000 test images: %d %%' % (100 * correct / total))"
      ]
    }
  ],
  "metadata": {
    "accelerator": "GPU",
    "colab": {
      "authorship_tag": "ABX9TyONnvKUvE8P3fcGNKeCKeTR",
      "gpuType": "T4",
      "include_colab_link": true,
      "provenance": [],
      "toc_visible": true
    },
    "kernelspec": {
      "display_name": "Python 3",
      "name": "python3"
    },
    "language_info": {
      "codemirror_mode": {
        "name": "ipython",
        "version": 3
      },
      "file_extension": ".py",
      "mimetype": "text/x-python",
      "name": "python",
      "nbconvert_exporter": "python",
      "pygments_lexer": "ipython3",
      "version": "3.10.10"
    }
  },
  "nbformat": 4,
  "nbformat_minor": 0
}
