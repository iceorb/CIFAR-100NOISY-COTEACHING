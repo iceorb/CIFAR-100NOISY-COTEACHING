{
  "nbformat": 4,
  "nbformat_minor": 0,
  "metadata": {
    "colab": {
      "provenance": [],
      "gpuType": "T4",
      "toc_visible": true,
      "authorship_tag": "ABX9TyONnvKUvE8P3fcGNKeCKeTR",
      "include_colab_link": true
    },
    "kernelspec": {
      "name": "python3",
      "display_name": "Python 3"
    },
    "language_info": {
      "name": "python"
    },
    "accelerator": "GPU"
  },
  "cells": [
    {
      "cell_type": "markdown",
      "metadata": {
        "id": "view-in-github",
        "colab_type": "text"
      },
      "source": [
        "<a href=\"https://colab.research.google.com/github/icexorb/yonseicv/blob/main/YonseiComputerVisionTest.ipynb\" target=\"_parent\"><img src=\"https://colab.research.google.com/assets/colab-badge.svg\" alt=\"Open In Colab\"/></a>"
      ]
    },
    {
      "cell_type": "markdown",
      "source": [
        "#**README.md**\n",
        "\n",
        "\n",
        "# Image classification with label noise on CIFAR100 dataset\n",
        "\n",
        "We will implement neural network models for image classification problem with label noise and class imbalance.\n",
        "\n",
        "The second assignment let you implement any neural network models for image classification on CIFAR100 dataset with noisy label.\n",
        "Noisy label here means that some of the given labels are not correct (e.g., it is a dog image but labeled as a cat).\n",
        "\n",
        "We recommend you to use PyTorch as your deep learning libary but we welcome you to use other deep learning libraries (e.g., Tensorflow).\n",
        "\n",
        "**Note**: we will use `Python 3.x` for the project. (We have tested all codes with Python 3.7.7)\n",
        "\n",
        "---\n",
        "## Preparation\n",
        "\n",
        "### Installing prerequisites\n",
        "\n",
        "The prerequisite usually refers to the necessary library that your code can run with. They are also known as `dependency`. We have prepared a few libraries for you to start with. To install the prerequisite, simply type in the shell prompt (not in a python interpreter) the following:\n",
        "\n",
        "```\n",
        "$ pip install -r requirements.txt\n",
        "```\n",
        "\n",
        "### Download the dataset\n",
        "\n",
        "Go to [dataset page in our kaggle page for this challenge (CIFAR100-NoisyLabel)](https://www.kaggle.com/c/cifar100-image-classification-with-noisy-labels/data) to download the dataset. Copy (or move) the dataset into `./dataset` sub-directory.\n",
        "\n",
        "\n",
        "---\n",
        "## Prepare the dataset\n",
        "\n",
        "Read the csv to load the dataset.\n",
        "\n",
        "```\n",
        ">>> import datasets\n",
        ">>> dataset_nl = datasets.C100Dataset('./dataset/data/cifar100_nl.csv')\n",
        ">>> [data_nl_tr_x, data_nl_tr_y, data_nl_val_x, data_nl_val_y] = dataset_odn.getDataset()\n",
        "```\n",
        "\n",
        "Each line of the dataset's `csv` file follows the below format:\n",
        "```\n",
        "filename,classname\n",
        "```\n",
        "\n",
        "*Note*: You may ignore the warning of `Fontconfig warning: ignoring UTF-8: not a valid region tag` after `import datasets` command.\n",
        "\n",
        "**Note**: Do not use PyTorch's CIFAR100 dataset loader. Use your own dataset loader.\n",
        "\n",
        "---\n",
        "## Image classification with dataset of noisy labels\n",
        "\n",
        "Perform image classification using the given dataset of noisy label version of CIFAR-100 dataset (`cifar100_nl.csv`).\n",
        "\n",
        "`REPORT1`: Describe model your have used (1. architecture overview, 2. any specialty of this model and etc.)\n",
        "\n",
        "`REPORT2`: Report both the training and testing accuracy in a plot (x: epoch, y: accuracy). \n",
        "\n",
        "`REPORT3`: Discuss any ideas to improve the accuracy (e.g., new architecture, using new layers, using new loss)\n",
        "\n"
      ],
      "metadata": {
        "id": "KBUxw_IvS4tz"
      }
    },
    {
      "cell_type": "code",
      "source": [],
      "metadata": {
        "id": "ieDe0E_yZf48"
      },
      "execution_count": null,
      "outputs": []
    },
    {
      "cell_type": "code",
      "source": [],
      "metadata": {
        "id": "Siajb9c7ZgI7"
      },
      "execution_count": null,
      "outputs": []
    },
    {
      "cell_type": "code",
      "source": [],
      "metadata": {
        "id": "FAXyGWiVZgnV"
      },
      "execution_count": null,
      "outputs": []
    },
    {
      "cell_type": "code",
      "source": [],
      "metadata": {
        "id": "q4O0dAWpZg9D"
      },
      "execution_count": null,
      "outputs": []
    },
    {
      "cell_type": "code",
      "source": [
        "import csv"
      ],
      "metadata": {
        "id": "EwOgt5peTiPu"
      },
      "execution_count": null,
      "outputs": []
    },
    {
      "cell_type": "code",
      "source": [
        "import datasets"
      ],
      "metadata": {
        "colab": {
          "base_uri": "https://localhost:8080/",
          "height": 312
        },
        "id": "BRgYUU0VXuN9",
        "outputId": "5bd48852-332f-46e7-e7c5-6fd571035218"
      },
      "execution_count": null,
      "outputs": [
        {
          "output_type": "error",
          "ename": "ModuleNotFoundError",
          "evalue": "ignored",
          "traceback": [
            "\u001b[0;31m---------------------------------------------------------------------------\u001b[0m",
            "\u001b[0;31mModuleNotFoundError\u001b[0m                       Traceback (most recent call last)",
            "\u001b[0;32m<ipython-input-17-652e886d387f>\u001b[0m in \u001b[0;36m<cell line: 1>\u001b[0;34m()\u001b[0m\n\u001b[0;32m----> 1\u001b[0;31m \u001b[0;32mimport\u001b[0m \u001b[0mdatasets\u001b[0m\u001b[0;34m\u001b[0m\u001b[0;34m\u001b[0m\u001b[0m\n\u001b[0m",
            "\u001b[0;31mModuleNotFoundError\u001b[0m: No module named 'datasets'",
            "",
            "\u001b[0;31m---------------------------------------------------------------------------\u001b[0;32m\nNOTE: If your import is failing due to a missing package, you can\nmanually install dependencies using either !pip or !apt.\n\nTo view examples of installing some common dependencies, click the\n\"Open Examples\" button below.\n\u001b[0;31m---------------------------------------------------------------------------\u001b[0m\n"
          ],
          "errorDetails": {
            "actions": [
              {
                "action": "open_url",
                "actionText": "Open Examples",
                "url": "/notebooks/snippets/importing_libraries.ipynb"
              }
            ]
          }
        }
      ]
    }
  ]
}