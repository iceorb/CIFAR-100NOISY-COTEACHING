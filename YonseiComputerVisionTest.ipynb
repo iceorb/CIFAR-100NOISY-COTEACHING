{
  "cells": [
    {
      "cell_type": "code",
      "execution_count": 1,
      "metadata": {},
      "outputs": [
        {
          "name": "stdout",
          "output_type": "stream",
          "text": [
            "Defaulting to user installation because normal site-packages is not writeable\n",
            "Requirement already satisfied: numpy in /Users/jubble/Library/Python/3.9/lib/python/site-packages (from -r requirements.txt (line 1)) (1.24.2)\n",
            "Requirement already satisfied: matplotlib in /Users/jubble/Library/Python/3.9/lib/python/site-packages (from -r requirements.txt (line 2)) (3.7.1)\n",
            "Requirement already satisfied: tqdm in /Users/jubble/Library/Python/3.9/lib/python/site-packages (from -r requirements.txt (line 3)) (4.65.0)\n",
            "Requirement already satisfied: torch in /Users/jubble/Library/Python/3.9/lib/python/site-packages (from -r requirements.txt (line 4)) (2.0.1)\n",
            "Requirement already satisfied: torchvision in /Users/jubble/Library/Python/3.9/lib/python/site-packages (from -r requirements.txt (line 5)) (0.15.2)\n",
            "Requirement already satisfied: contourpy>=1.0.1 in /Users/jubble/Library/Python/3.9/lib/python/site-packages (from matplotlib->-r requirements.txt (line 2)) (1.0.7)\n",
            "Requirement already satisfied: cycler>=0.10 in /Users/jubble/Library/Python/3.9/lib/python/site-packages (from matplotlib->-r requirements.txt (line 2)) (0.11.0)\n",
            "Requirement already satisfied: fonttools>=4.22.0 in /Users/jubble/Library/Python/3.9/lib/python/site-packages (from matplotlib->-r requirements.txt (line 2)) (4.39.0)\n",
            "Requirement already satisfied: kiwisolver>=1.0.1 in /Users/jubble/Library/Python/3.9/lib/python/site-packages (from matplotlib->-r requirements.txt (line 2)) (1.4.4)\n",
            "Requirement already satisfied: packaging>=20.0 in /Users/jubble/Library/Python/3.9/lib/python/site-packages (from matplotlib->-r requirements.txt (line 2)) (23.0)\n",
            "Requirement already satisfied: pillow>=6.2.0 in /Users/jubble/Library/Python/3.9/lib/python/site-packages (from matplotlib->-r requirements.txt (line 2)) (9.4.0)\n",
            "Requirement already satisfied: pyparsing>=2.3.1 in /Users/jubble/Library/Python/3.9/lib/python/site-packages (from matplotlib->-r requirements.txt (line 2)) (3.0.9)\n",
            "Requirement already satisfied: python-dateutil>=2.7 in /Users/jubble/Library/Python/3.9/lib/python/site-packages (from matplotlib->-r requirements.txt (line 2)) (2.8.2)\n",
            "Requirement already satisfied: importlib-resources>=3.2.0 in /Users/jubble/Library/Python/3.9/lib/python/site-packages (from matplotlib->-r requirements.txt (line 2)) (5.12.0)\n",
            "Requirement already satisfied: filelock in /Users/jubble/Library/Python/3.9/lib/python/site-packages (from torch->-r requirements.txt (line 4)) (3.12.0)\n",
            "Requirement already satisfied: typing-extensions in /Users/jubble/Library/Python/3.9/lib/python/site-packages (from torch->-r requirements.txt (line 4)) (4.6.2)\n",
            "Requirement already satisfied: sympy in /Users/jubble/Library/Python/3.9/lib/python/site-packages (from torch->-r requirements.txt (line 4)) (1.12)\n",
            "Requirement already satisfied: networkx in /Users/jubble/Library/Python/3.9/lib/python/site-packages (from torch->-r requirements.txt (line 4)) (3.1)\n",
            "Requirement already satisfied: jinja2 in /Users/jubble/Library/Python/3.9/lib/python/site-packages (from torch->-r requirements.txt (line 4)) (3.1.2)\n",
            "Requirement already satisfied: requests in /Users/jubble/Library/Python/3.9/lib/python/site-packages (from torchvision->-r requirements.txt (line 5)) (2.31.0)\n",
            "Requirement already satisfied: zipp>=3.1.0 in /Users/jubble/Library/Python/3.9/lib/python/site-packages (from importlib-resources>=3.2.0->matplotlib->-r requirements.txt (line 2)) (3.15.0)\n",
            "Requirement already satisfied: six>=1.5 in /Library/Developer/CommandLineTools/Library/Frameworks/Python3.framework/Versions/3.9/lib/python3.9/site-packages (from python-dateutil>=2.7->matplotlib->-r requirements.txt (line 2)) (1.15.0)\n",
            "Requirement already satisfied: MarkupSafe>=2.0 in /Users/jubble/Library/Python/3.9/lib/python/site-packages (from jinja2->torch->-r requirements.txt (line 4)) (2.1.2)\n",
            "Requirement already satisfied: charset-normalizer<4,>=2 in /Users/jubble/Library/Python/3.9/lib/python/site-packages (from requests->torchvision->-r requirements.txt (line 5)) (3.1.0)\n",
            "Requirement already satisfied: idna<4,>=2.5 in /Users/jubble/Library/Python/3.9/lib/python/site-packages (from requests->torchvision->-r requirements.txt (line 5)) (3.4)\n",
            "Requirement already satisfied: urllib3<3,>=1.21.1 in /Users/jubble/Library/Python/3.9/lib/python/site-packages (from requests->torchvision->-r requirements.txt (line 5)) (2.0.2)\n",
            "Requirement already satisfied: certifi>=2017.4.17 in /Users/jubble/Library/Python/3.9/lib/python/site-packages (from requests->torchvision->-r requirements.txt (line 5)) (2023.5.7)\n",
            "Requirement already satisfied: mpmath>=0.19 in /Users/jubble/Library/Python/3.9/lib/python/site-packages (from sympy->torch->-r requirements.txt (line 4)) (1.3.0)\n"
          ]
        }
      ],
      "source": [
        "!pip install -r requirements.txt"
      ]
    },
    {
      "cell_type": "code",
      "execution_count": 1,
      "metadata": {},
      "outputs": [],
      "source": [
        "import csv\n",
        "import os\n",
        "import torch\n",
        "import torchvision\n",
        "import tarfile\n",
        "import torch.nn as nn\n",
        "import numpy as np\n",
        "import torch.nn.functional as F\n",
        "from torchvision.datasets.utils import download_url\n",
        "from torchvision.datasets import ImageFolder\n",
        "from torch.utils.data import DataLoader\n",
        "import torchvision.transforms as tt\n",
        "from torch.utils.data import random_split\n",
        "from torchvision.utils import make_grid\n",
        "import matplotlib\n",
        "import matplotlib.pyplot as plt\n",
        "from torchvision.transforms import ToTensor\n",
        "%matplotlib inline\n",
        "\n",
        "matplotlib.rcParams['figure.facecolor'] = '#ffffff'"
      ]
    },
    {
      "cell_type": "code",
      "execution_count": 2,
      "metadata": {},
      "outputs": [
        {
          "name": "stdout",
          "output_type": "stream",
          "text": [
            "/Users/jubble/computervision/yonseicv\n",
            "49999\n",
            "49999\n",
            "9999\n",
            "9999\n"
          ]
        }
      ],
      "source": [
        "import datasets\n",
        "print(os.getcwd())\n",
        "dataset_nl = datasets.C100Dataset('dataset/data/cifar100_nl.csv', 'dataset/data/cifar100_nl_test.csv')\n",
        "[data_nl_tr_x, data_nl_tr_y, data_nl_val_x, data_nl_val_y] = dataset_nl.getDataset()"
      ]
    },
    {
      "attachments": {},
      "cell_type": "markdown",
      "metadata": {},
      "source": [
        "Print an image for fun"
      ]
    },
    {
      "cell_type": "code",
      "execution_count": 5,
      "metadata": {},
      "outputs": [
        {
          "name": "stdout",
          "output_type": "stream",
          "text": [
            "cockroach\n"
          ]
        },
        {
          "data": {
            "image/png": "[encoded data removed]",
            "text/plain": [
              "<Figure size 640x480 with 1 Axes>"
            ]
          },
          "metadata": {},
          "output_type": "display_data"
        }
      ],
      "source": [
        "img, label = data_nl_tr_x[0], data_nl_tr_y[0]\n",
        "plt.imshow(img)\n",
        "print(label)\n",
        "plt.show()"
      ]
    }
  ],
  "metadata": {
    "accelerator": "GPU",
    "colab": {
      "authorship_tag": "ABX9TyONnvKUvE8P3fcGNKeCKeTR",
      "gpuType": "T4",
      "include_colab_link": true,
      "provenance": [],
      "toc_visible": true
    },
    "kernelspec": {
      "display_name": "Python 3",
      "name": "python3"
    },
    "language_info": {
      "codemirror_mode": {
        "name": "ipython",
        "version": 3
      },
      "file_extension": ".py",
      "mimetype": "text/x-python",
      "name": "python",
      "nbconvert_exporter": "python",
      "pygments_lexer": "ipython3",
      "version": "3.9.13"
    }
  },
  "nbformat": 4,
  "nbformat_minor": 0
}
