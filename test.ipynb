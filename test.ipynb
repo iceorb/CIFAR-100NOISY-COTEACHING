{
 "cells": [
  {
   "cell_type": "code",
   "execution_count": 3,
   "metadata": {},
   "outputs": [],
   "source": [
    "import datasets\n",
    "from torchvision.transforms import ToTensor as toTensor\n",
    "from torchvision import transforms\n",
    "from torch.utils.data import DataLoader\n",
    "from torch.utils.data import random_split\n",
    "from torchvision.transforms import ToPILImage\n",
    "import matplotlib.pyplot as plt\n",
    "import torch\n",
    "from PIL import Image\n",
    "\n",
    "transform = transforms.Compose([\n",
    "    transforms.Resize((32,32)),\n",
    "    transforms.RandomHorizontalFlip(),\n",
    "    transforms.RandomRotation(10),\n",
    "    transforms.ToTensor(),\n",
    "    transforms.Normalize(mean=[0.5071, 0.4867, 0.4408], std=[0.2675, 0.2565, 0.2761])\n",
    "    # Using previous information, skipping manual calculation\n",
    "])\n",
    "\n",
    "target_transform = transforms.Compose([\n",
    "    transforms.ToTensor()\n",
    "])\n",
    "\n",
    "trainDataset = datasets.C100Dataset('dataset/data/cifar100_nl.csv', \n",
    "                                    root_dir=\"dataset\",\n",
    "                                    train=True,\n",
    "                                    transform= transform)\n",
    "\n",
    "testDataset = datasets.C100Dataset('dataset/data/cifar100_nl_test.csv',\n",
    "                                    root_dir=\"dataset\",\n",
    "                                    test=True,\n",
    "                                    transform = transform,\n",
    "                                    target_transform=target_transform)\n",
    "\n",
    "trainDataset, valDataset = random_split(trainDataset, [.8, .2])\n",
    "\n",
    "trainLoader = DataLoader(trainDataset, batch_size=batch_size, shuffle=True)\n",
    "valLoader = DataLoader(valDataset, batch_size=batch_size, shuffle=True)\n",
    "testLoader = DataLoader(testDataset, batch_size=batch_size, shuffle=True)\n"
   ]
  }
 ],
 "metadata": {
  "kernelspec": {
   "display_name": "Python 3",
   "language": "python",
   "name": "python3"
  },
  "language_info": {
   "codemirror_mode": {
    "name": "ipython",
    "version": 3
   },
   "file_extension": ".py",
   "mimetype": "text/x-python",
   "name": "python",
   "nbconvert_exporter": "python",
   "pygments_lexer": "ipython3",
   "version": "3.9.13"
  },
  "orig_nbformat": 4
 },
 "nbformat": 4,
 "nbformat_minor": 2
}
